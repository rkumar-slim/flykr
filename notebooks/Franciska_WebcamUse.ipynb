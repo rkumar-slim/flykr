{
 "cells": [
  {
   "cell_type": "code",
   "execution_count": 1,
   "id": "e083866d",
   "metadata": {},
   "outputs": [
    {
     "name": "stdout",
     "output_type": "stream",
     "text": [
      "Collecting mediapipe\n",
      "  Using cached mediapipe-0.8.9-cp38-cp38-macosx_10_15_x86_64.whl (33.5 MB)\n",
      "Requirement already satisfied: protobuf>=3.11.4 in /Users/franciskaenglert/.pyenv/versions/3.8.12/envs/b750-sign/lib/python3.8/site-packages (from mediapipe) (3.19.1)\n",
      "Collecting opencv-contrib-python\n",
      "  Using cached opencv_contrib_python-4.5.4.60-cp38-cp38-macosx_10_15_x86_64.whl (54.8 MB)\n",
      "Requirement already satisfied: numpy in /Users/franciskaenglert/.pyenv/versions/3.8.12/envs/b750-sign/lib/python3.8/site-packages (from mediapipe) (1.19.5)\n",
      "Requirement already satisfied: wheel in /Users/franciskaenglert/.pyenv/versions/3.8.12/envs/b750-sign/lib/python3.8/site-packages (from mediapipe) (0.37.0)\n",
      "Requirement already satisfied: attrs>=19.1.0 in /Users/franciskaenglert/.pyenv/versions/3.8.12/envs/b750-sign/lib/python3.8/site-packages (from mediapipe) (21.2.0)\n",
      "Requirement already satisfied: six in /Users/franciskaenglert/.pyenv/versions/3.8.12/envs/b750-sign/lib/python3.8/site-packages (from mediapipe) (1.15.0)\n",
      "Requirement already satisfied: absl-py in /Users/franciskaenglert/.pyenv/versions/3.8.12/envs/b750-sign/lib/python3.8/site-packages (from mediapipe) (0.15.0)\n",
      "Requirement already satisfied: matplotlib in /Users/franciskaenglert/.pyenv/versions/3.8.12/envs/b750-sign/lib/python3.8/site-packages (from mediapipe) (3.5.0)\n",
      "Requirement already satisfied: packaging>=20.0 in /Users/franciskaenglert/.pyenv/versions/3.8.12/envs/b750-sign/lib/python3.8/site-packages (from matplotlib->mediapipe) (21.0)\n",
      "Requirement already satisfied: fonttools>=4.22.0 in /Users/franciskaenglert/.pyenv/versions/3.8.12/envs/b750-sign/lib/python3.8/site-packages (from matplotlib->mediapipe) (4.28.2)\n",
      "Requirement already satisfied: python-dateutil>=2.7 in /Users/franciskaenglert/.pyenv/versions/3.8.12/envs/b750-sign/lib/python3.8/site-packages (from matplotlib->mediapipe) (2.8.2)\n",
      "Requirement already satisfied: setuptools-scm>=4 in /Users/franciskaenglert/.pyenv/versions/3.8.12/envs/b750-sign/lib/python3.8/site-packages (from matplotlib->mediapipe) (6.3.2)\n",
      "Requirement already satisfied: kiwisolver>=1.0.1 in /Users/franciskaenglert/.pyenv/versions/3.8.12/envs/b750-sign/lib/python3.8/site-packages (from matplotlib->mediapipe) (1.3.2)\n",
      "Requirement already satisfied: pillow>=6.2.0 in /Users/franciskaenglert/.pyenv/versions/3.8.12/envs/b750-sign/lib/python3.8/site-packages (from matplotlib->mediapipe) (8.4.0)\n",
      "Requirement already satisfied: pyparsing>=2.2.1 in /Users/franciskaenglert/.pyenv/versions/3.8.12/envs/b750-sign/lib/python3.8/site-packages (from matplotlib->mediapipe) (3.0.6)\n",
      "Requirement already satisfied: cycler>=0.10 in /Users/franciskaenglert/.pyenv/versions/3.8.12/envs/b750-sign/lib/python3.8/site-packages (from matplotlib->mediapipe) (0.11.0)\n",
      "Requirement already satisfied: tomli>=1.0.0 in /Users/franciskaenglert/.pyenv/versions/3.8.12/envs/b750-sign/lib/python3.8/site-packages (from setuptools-scm>=4->matplotlib->mediapipe) (1.2.2)\n",
      "Requirement already satisfied: setuptools in /Users/franciskaenglert/.pyenv/versions/3.8.12/envs/b750-sign/lib/python3.8/site-packages (from setuptools-scm>=4->matplotlib->mediapipe) (56.0.0)\n",
      "Installing collected packages: opencv-contrib-python, mediapipe\n",
      "Successfully installed mediapipe-0.8.9 opencv-contrib-python-4.5.4.60\n"
     ]
    }
   ],
   "source": [
    "!pip install mediapipe\n"
   ]
  },
  {
   "cell_type": "code",
   "execution_count": 10,
   "id": "75a2112d",
   "metadata": {},
   "outputs": [
    {
     "name": "stdout",
     "output_type": "stream",
     "text": [
      "Requirement already satisfied: opencv-python in /Users/franciskaenglert/.pyenv/versions/3.8.12/envs/b750-sign/lib/python3.8/site-packages (4.5.4.60)\r\n",
      "Requirement already satisfied: numpy>=1.17.3 in /Users/franciskaenglert/.pyenv/versions/3.8.12/envs/b750-sign/lib/python3.8/site-packages (from opencv-python) (1.19.5)\r\n"
     ]
    }
   ],
   "source": [
    "!pip install opencv-python"
   ]
  },
  {
   "cell_type": "code",
   "execution_count": 1,
   "id": "70ad4050",
   "metadata": {},
   "outputs": [],
   "source": [
    "import cv2\n",
    "import mediapipe as mp"
   ]
  },
  {
   "cell_type": "code",
   "execution_count": 2,
   "id": "b8dd00c2",
   "metadata": {},
   "outputs": [
    {
     "name": "stderr",
     "output_type": "stream",
     "text": [
      "INFO: Created TensorFlow Lite XNNPACK delegate for CPU.\n"
     ]
    },
    {
     "ename": "error",
     "evalue": "OpenCV(4.5.4) /Users/runner/work/opencv-python/opencv-python/opencv/modules/imgproc/src/color.cpp:182: error: (-215:Assertion failed) !_src.empty() in function 'cvtColor'\n",
     "output_type": "error",
     "traceback": [
      "\u001b[0;31m---------------------------------------------------------------------------\u001b[0m",
      "\u001b[0;31merror\u001b[0m                                     Traceback (most recent call last)",
      "\u001b[0;32m/var/folders/5b/tlx2ybzn6tv584bl590tsj040000gn/T/ipykernel_23530/3208680228.py\u001b[0m in \u001b[0;36m<module>\u001b[0;34m\u001b[0m\n\u001b[1;32m      6\u001b[0m \u001b[0;32mwhile\u001b[0m \u001b[0;32mTrue\u001b[0m\u001b[0;34m:\u001b[0m\u001b[0;34m\u001b[0m\u001b[0;34m\u001b[0m\u001b[0m\n\u001b[1;32m      7\u001b[0m     \u001b[0msuccess\u001b[0m\u001b[0;34m,\u001b[0m \u001b[0mimg\u001b[0m \u001b[0;34m=\u001b[0m \u001b[0mcap\u001b[0m\u001b[0;34m.\u001b[0m\u001b[0mread\u001b[0m\u001b[0;34m(\u001b[0m\u001b[0;34m)\u001b[0m\u001b[0;34m\u001b[0m\u001b[0;34m\u001b[0m\u001b[0m\n\u001b[0;32m----> 8\u001b[0;31m     \u001b[0mimgRGB\u001b[0m \u001b[0;34m=\u001b[0m \u001b[0mcv2\u001b[0m\u001b[0;34m.\u001b[0m\u001b[0mcvtColor\u001b[0m\u001b[0;34m(\u001b[0m\u001b[0mimg\u001b[0m\u001b[0;34m,\u001b[0m \u001b[0mcv2\u001b[0m\u001b[0;34m.\u001b[0m\u001b[0mCOLOR_BGR2RGB\u001b[0m\u001b[0;34m)\u001b[0m\u001b[0;34m\u001b[0m\u001b[0;34m\u001b[0m\u001b[0m\n\u001b[0m\u001b[1;32m      9\u001b[0m \u001b[0;34m\u001b[0m\u001b[0m\n\u001b[1;32m     10\u001b[0m     \u001b[0mresults\u001b[0m \u001b[0;34m=\u001b[0m \u001b[0mhands\u001b[0m\u001b[0;34m.\u001b[0m\u001b[0mprocess\u001b[0m\u001b[0;34m(\u001b[0m\u001b[0mimgRGB\u001b[0m\u001b[0;34m)\u001b[0m\u001b[0;34m\u001b[0m\u001b[0;34m\u001b[0m\u001b[0m\n",
      "\u001b[0;31merror\u001b[0m: OpenCV(4.5.4) /Users/runner/work/opencv-python/opencv-python/opencv/modules/imgproc/src/color.cpp:182: error: (-215:Assertion failed) !_src.empty() in function 'cvtColor'\n"
     ]
    }
   ],
   "source": [
    "cap = cv2.VideoCapture(0)\n",
    "mpHands = mp.solutions.hands\n",
    "hands = mpHands.Hands()\n",
    "mpDraw = mp.solutions.drawing_utils\n",
    "\n",
    "while True:\n",
    "    success, img = cap.read()\n",
    "    imgRGB = cv2.cvtColor(img, cv2.COLOR_BGR2RGB)\n",
    "    \n",
    "    results = hands.process(imgRGB)\n",
    "    \n",
    "    if results.multi_hand_landmarks:\n",
    "        for handLms in results.multi_hand_landmarks:\n",
    "            mpDraw.draw_landmarks(img, handLms, mpHands.HAND_CONNECTIONS)\n",
    "    \n",
    "    cv2.imshow(\"Image\", img)\n",
    "    cv2.waitKey(1)"
   ]
  },
  {
   "cell_type": "code",
   "execution_count": null,
   "id": "800805b9",
   "metadata": {},
   "outputs": [],
   "source": []
  }
 ],
 "metadata": {
  "kernelspec": {
   "display_name": "b750-sign",
   "language": "python",
   "name": "b750-sign"
  },
  "language_info": {
   "codemirror_mode": {
    "name": "ipython",
    "version": 3
   },
   "file_extension": ".py",
   "mimetype": "text/x-python",
   "name": "python",
   "nbconvert_exporter": "python",
   "pygments_lexer": "ipython3",
   "version": "3.8.12"
  },
  "toc": {
   "base_numbering": 1,
   "nav_menu": {},
   "number_sections": true,
   "sideBar": true,
   "skip_h1_title": false,
   "title_cell": "Table of Contents",
   "title_sidebar": "Contents",
   "toc_cell": false,
   "toc_position": {},
   "toc_section_display": true,
   "toc_window_display": false
  }
 },
 "nbformat": 4,
 "nbformat_minor": 5
}

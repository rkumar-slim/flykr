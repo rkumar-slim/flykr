{
 "cells": [
  {
   "cell_type": "code",
   "execution_count": 4,
   "id": "8d6472d0",
   "metadata": {},
   "outputs": [],
   "source": [
    "import pandas as pd\n",
    "import numpy as np\n",
    "import os\n",
    "import matplotlib.pyplot as plt\n",
    "import matplotlib.image as mpimg\n",
    "#from skimage.transform import rescale, resize, downscale_local_mean\n",
    "#from skimage import data, color\n",
    "from PIL import Image"
   ]
  },
  {
   "cell_type": "code",
   "execution_count": 14,
   "id": "4f4af6cd",
   "metadata": {},
   "outputs": [],
   "source": [
    "def get_data(folder_name, max_image = None):\n",
    "    X     = []\n",
    "    label = []\n",
    "    list_sub_dir = os.listdir(folder_name)\n",
    "    list_sub_dir = [folder for folder in list_sub_dir if folder[0]!='.' ]\n",
    "    \n",
    "    for val in list_sub_dir:\n",
    "        image_count = 0\n",
    "        print(val)\n",
    "        list_item = os.listdir(f\"{folder_name}/{val}/\")\n",
    "        for item in list_item:\n",
    "            img=mpimg.imread(f\"{folder_name}/{val}/{item}\")\n",
    "            if X == []:\n",
    "                X = np.array(img)\n",
    "                img_shape = np.prod(X.shape)\n",
    "                X = np.reshape(X,(1,img_shape))\n",
    "                label.append(val)\n",
    "            else:\n",
    "                X = np.concatenate((X,np.reshape(np.array(img),(1,img_shape))),axis=0)\n",
    "                label.append(val)\n",
    "\n",
    "            image_count += 1\n",
    "\n",
    "            if max_image and image_count == max_image:\n",
    "                break\n",
    "        \n",
    "    X = pd.DataFrame(X)\n",
    "    X['label'] = label\n",
    "    return X"
   ]
  },
  {
   "cell_type": "code",
   "execution_count": 17,
   "id": "d3be8760",
   "metadata": {},
   "outputs": [
    {
     "name": "stdout",
     "output_type": "stream",
     "text": [
      "R\n"
     ]
    },
    {
     "name": "stderr",
     "output_type": "stream",
     "text": [
      "/var/folders/5b/tlx2ybzn6tv584bl590tsj040000gn/T/ipykernel_4190/2205586876.py:13: DeprecationWarning: elementwise comparison failed; this will raise an error in the future.\n",
      "  if X == []:\n"
     ]
    },
    {
     "name": "stdout",
     "output_type": "stream",
     "text": [
      "U\n",
      "I\n",
      "N\n",
      "G\n",
      "Z\n",
      "T\n",
      "S\n",
      "A\n",
      "F\n",
      "O\n",
      "H\n",
      "del\n",
      "nothing\n",
      "space\n",
      "M\n",
      "J\n",
      "C\n",
      "D\n",
      "V\n",
      "Q\n",
      "X\n",
      "E\n",
      "B\n",
      "K\n",
      "L\n",
      "Y\n",
      "P\n",
      "W\n"
     ]
    }
   ],
   "source": [
    "X = get_data(\"/Users/franciskaenglert/code/evaenglert/flykr/raw_data/asl-alphabet/asl_alphabet_train/asl_alphabet_train\", max_image = 100)"
   ]
  },
  {
   "cell_type": "code",
   "execution_count": 18,
   "id": "4724990e",
   "metadata": {},
   "outputs": [
    {
     "data": {
      "text/plain": [
       "(2900, 120001)"
      ]
     },
     "execution_count": 18,
     "metadata": {},
     "output_type": "execute_result"
    }
   ],
   "source": [
    "X.shape"
   ]
  },
  {
   "cell_type": "code",
   "execution_count": null,
   "id": "8062efa7",
   "metadata": {},
   "outputs": [],
   "source": []
  }
 ],
 "metadata": {
  "kernelspec": {
   "display_name": "Python 3 (ipykernel)",
   "language": "python",
   "name": "python3"
  },
  "language_info": {
   "codemirror_mode": {
    "name": "ipython",
    "version": 3
   },
   "file_extension": ".py",
   "mimetype": "text/x-python",
   "name": "python",
   "nbconvert_exporter": "python",
   "pygments_lexer": "ipython3",
   "version": "3.8.2"
  },
  "toc": {
   "base_numbering": 1,
   "nav_menu": {},
   "number_sections": true,
   "sideBar": true,
   "skip_h1_title": false,
   "title_cell": "Table of Contents",
   "title_sidebar": "Contents",
   "toc_cell": false,
   "toc_position": {},
   "toc_section_display": true,
   "toc_window_display": false
  }
 },
 "nbformat": 4,
 "nbformat_minor": 5
}
